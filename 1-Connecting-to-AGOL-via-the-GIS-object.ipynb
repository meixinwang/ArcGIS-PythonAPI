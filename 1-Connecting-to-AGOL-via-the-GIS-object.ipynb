{
 "cells": [
  {
   "cell_type": "markdown",
   "metadata": {},
   "source": [
    "# Connecting to ArcGIS Online via the GIS Object\n",
    "The ArcGIS Python API's `GIS` object is our connection to ArcGIS online (and its bounty of online data). Just as we can open a web browser to `https://arcgis.com` and search for data, we can do so via this GIS object, as we'll see shortly. \n",
    "\n",
    "However, some resources are shared with specific AGOL organizations, groups, and users. So, to access those, we need a means of passing our credentials when we connect to ArcGIS Online. That can be easy or tricky, depending on how you've installed the ArcGIS Python API and whether your AGOL account is set up...\n",
    "\n",
    "Resource:\n",
    "* Guide: https://developers.arcgis.com/python/guide/using-the-gis/\n",
    "* Reference: https://developers.arcgis.com/python/api-reference/arcgis.gis.toc.html#gis"
   ]
  },
  {
   "cell_type": "markdown",
   "metadata": {},
   "source": [
    "### Connecting anonymously\n",
    "The easiest way to connect is anonymously. But in doing so, we can't access any restricted datasets."
   ]
  },
  {
   "cell_type": "code",
   "execution_count": 1,
   "metadata": {},
   "outputs": [],
   "source": [
    "#Import the GIS object\n",
    "from arcgis import GIS"
   ]
  },
  {
   "cell_type": "code",
   "execution_count": 2,
   "metadata": {},
   "outputs": [],
   "source": [
    "#Connect to AGOL by creating an instance of the GIS object\n",
    "anon_gis = GIS()"
   ]
  },
  {
   "cell_type": "code",
   "execution_count": 3,
   "metadata": {},
   "outputs": [
    {
     "data": {
      "text/plain": [
       "arcgis.gis.GIS"
      ]
     },
     "execution_count": 3,
     "metadata": {},
     "output_type": "execute_result"
    }
   ],
   "source": [
    "#Show the type of object created\n",
    "type(anon_gis)"
   ]
  },
  {
   "cell_type": "code",
   "execution_count": 4,
   "metadata": {},
   "outputs": [
    {
     "data": {
      "text/plain": [
       "'https://www.arcgis.com'"
      ]
     },
     "execution_count": 4,
     "metadata": {},
     "output_type": "execute_result"
    }
   ],
   "source": [
    "#Show the default address linked to the anonymous user\n",
    "anon_gis.url"
   ]
  },
  {
   "cell_type": "markdown",
   "metadata": {},
   "source": [
    "### Connecting via your ArcGIS Pro credentials\n",
    "If you are using the Python environment linked to your ArcGIS Pro installation, you can authenticate your GIS object with the credentials used when you logged into ArcGIS online. So if the code below fails, check that:\n",
    "* You are using the default ArcGIS Pro environment (`arcgispro-py3`) or one cloned from that environment, and;\n",
    "* You have successfully logged into ArcGIS Pro on that machine and selected \"remember my login credentials\". "
   ]
  },
  {
   "cell_type": "code",
   "execution_count": 5,
   "metadata": {},
   "outputs": [],
   "source": [
    "#Connect to AGOL via your ArcGIS Pro credentials\n",
    "gis = GIS('home') #GIS('pro') also works"
   ]
  },
  {
   "cell_type": "code",
   "execution_count": 6,
   "metadata": {},
   "outputs": [
    {
     "data": {
      "text/html": [
       "<div class=\"9item_container\" style=\"height: auto; overflow: hidden; border: 1px solid #cfcfcf; border-radius: 2px; background: #f6fafa; line-height: 1.21429em; padding: 10px;\">\n",
       "                    <div class=\"item_left\" style=\"width: 210px; float: left;\">\n",
       "                       <a href='https://dukeuniv.maps.arcgis.com//home/user.html?user=mw510_dukeuniv' target='_blank'>\n",
       "                        <img src='https://dukeuniv.maps.arcgis.com//home/js/arcgisonline/css/images/no-user-thumb.jpg' class=\"itemThumbnail\">\n",
       "                       </a>\n",
       "                    </div>\n",
       "\n",
       "                    <div class=\"item_right\" style=\"float: none; width: auto; overflow: hidden;\">\n",
       "                        <a href='https://dukeuniv.maps.arcgis.com//home/user.html?user=mw510_dukeuniv' target='_blank'><b>Meixin Wang</b>\n",
       "                        </a>\n",
       "                        <br/><br/><b>Bio</b>: None\n",
       "                        <br/><b>First Name</b>: Meixin\n",
       "                        <br/><b>Last Name</b>: Wang\n",
       "                        <br/><b>Username</b>: mw510_dukeuniv\n",
       "                        <br/><b>Joined</b>: August 23, 2021\n",
       "\n",
       "                    </div>\n",
       "                </div>\n",
       "                "
      ],
      "text/plain": [
       "<User username:mw510_dukeuniv>"
      ]
     },
     "execution_count": 6,
     "metadata": {},
     "output_type": "execute_result"
    }
   ],
   "source": [
    "#Show your user info\n",
    "gis.users.me"
   ]
  },
  {
   "cell_type": "code",
   "execution_count": 7,
   "metadata": {},
   "outputs": [
    {
     "data": {
      "text/plain": [
       "'https://dukeuniv.maps.arcgis.com/'"
      ]
     },
     "execution_count": 7,
     "metadata": {},
     "output_type": "execute_result"
    }
   ],
   "source": [
    "#Show your default url\n",
    "gis.url"
   ]
  },
  {
   "cell_type": "markdown",
   "metadata": {},
   "source": [
    "This means of creating the `gis` object has the benefit of allowing us to access any dataset shared with you directly, with any groups to which you belong, or with the organization or enterprise that sponsors your account. We'll see how that works later..."
   ]
  },
  {
   "cell_type": "markdown",
   "metadata": {},
   "source": [
    "### Connecting via passed in credentials\n",
    "The ESRI documentation gives examples where you can directly pass in usernames and passwords.(See [here](https://developers.arcgis.com/python/guide/using-the-gis/).) This straightforward process can be useful if you need to access data shared with you, but you are not using an environment linked to ArcGIS Pro. \n",
    "\n",
    "*However*, because we log into AGOL via our Duke accounts, this approach won't work. Instead, there is a more complex process requiring me to set up a gateway for you to have access via your Duke NetID. I won't got into the gory detail ([here](https://developers.arcgis.com/python/guide/working-with-different-authentication-schemes/) if you are curious...), but instead just provide the code needed to access AGOL using this method.\n",
    "\n",
    "When you run this code, a web browser will appear asking you to log in via Duke credentials. ***Note: always check the URL of the page asking for your Duke credentials: it should contain 'https://shib.oit.duke.edu' in it***. After you log in, you'll be granted a *token* to copy and paste in the notebook. You may also get a warning about \"certificate verification\", which we at Duke are looking into; but it won't be a problem for now."
   ]
  },
  {
   "cell_type": "code",
   "execution_count": 8,
   "metadata": {},
   "outputs": [
    {
     "name": "stdout",
     "output_type": "stream",
     "text": [
      "Please sign in to your GIS and paste the code that is obtained below.\n",
      "If a web browser does not automatically open, please navigate to the URL below yourself instead.\n",
      "Opening web browser to navigate to: https://dukeuniv.maps.arcgis.com/sharing/rest//oauth2/authorize?response_type=code&client_id=YmtqqKYoHULH1M2l&redirect_uri=urn%3Aietf%3Awg%3Aoauth%3A2.0%3Aoob&state=MgTdkMQO47SBmcgu77wzVKYkra6MKf\n",
      "Enter code obtained on signing in using SAML: ········\n"
     ]
    },
    {
     "name": "stderr",
     "output_type": "stream",
     "text": [
      "C:\\Program Files\\ArcGIS\\Pro\\bin\\Python\\envs\\arcgispro-py3\\lib\\site-packages\\urllib3\\connectionpool.py:1020: InsecureRequestWarning: Unverified HTTPS request is being made to host 'dukeuniv.maps.arcgis.com'. Adding certificate verification is strongly advised. See: https://urllib3.readthedocs.io/en/latest/advanced-usage.html#ssl-warnings\n",
      "  InsecureRequestWarning,\n"
     ]
    },
    {
     "name": "stdout",
     "output_type": "stream",
     "text": [
      "Successfully logged in as :mw510_dukeuniv\n"
     ]
    }
   ],
   "source": [
    "#Connect to AGOL via OAuth Credentials\n",
    "gis_oauth = GIS('https://dukeuniv.maps.arcgis.com',client_id = 'YmtqqKYoHULH1M2l')\n",
    "print('Successfully logged in as :'+gis.properties.user.username)"
   ]
  },
  {
   "cell_type": "code",
   "execution_count": 9,
   "metadata": {},
   "outputs": [
    {
     "data": {
      "text/html": [
       "<div class=\"9item_container\" style=\"height: auto; overflow: hidden; border: 1px solid #cfcfcf; border-radius: 2px; background: #f6fafa; line-height: 1.21429em; padding: 10px;\">\n",
       "                    <div class=\"item_left\" style=\"width: 210px; float: left;\">\n",
       "                       <a href='https://dukeuniv.maps.arcgis.com/home/user.html?user=mw510_dukeuniv' target='_blank'>\n",
       "                        <img src='https://dukeuniv.maps.arcgis.com/home/js/arcgisonline/css/images/no-user-thumb.jpg' class=\"itemThumbnail\">\n",
       "                       </a>\n",
       "                    </div>\n",
       "\n",
       "                    <div class=\"item_right\" style=\"float: none; width: auto; overflow: hidden;\">\n",
       "                        <a href='https://dukeuniv.maps.arcgis.com/home/user.html?user=mw510_dukeuniv' target='_blank'><b>Meixin Wang</b>\n",
       "                        </a>\n",
       "                        <br/><br/><b>Bio</b>: None\n",
       "                        <br/><b>First Name</b>: Meixin\n",
       "                        <br/><b>Last Name</b>: Wang\n",
       "                        <br/><b>Username</b>: mw510_dukeuniv\n",
       "                        <br/><b>Joined</b>: August 23, 2021\n",
       "\n",
       "                    </div>\n",
       "                </div>\n",
       "                "
      ],
      "text/plain": [
       "<User username:mw510_dukeuniv>"
      ]
     },
     "execution_count": 9,
     "metadata": {},
     "output_type": "execute_result"
    }
   ],
   "source": [
    "#Show your user info\n",
    "gis_oauth.users.me"
   ]
  },
  {
   "cell_type": "code",
   "execution_count": 10,
   "metadata": {},
   "outputs": [
    {
     "data": {
      "text/plain": [
       "'https://dukeuniv.maps.arcgis.com'"
      ]
     },
     "execution_count": 10,
     "metadata": {},
     "output_type": "execute_result"
    }
   ],
   "source": [
    "#Show your default url\n",
    "gis_oauth.url"
   ]
  },
  {
   "cell_type": "markdown",
   "metadata": {},
   "source": [
    "## Summary\n",
    "The first step in working with the ArcGIS Python API is making the connection to ArcGIS Online. Here we see different ways to do this. Typically, if you can, you'd connect using `gis('pro')` if you could, as that'd connect you to your personal AGOL resources. However, sometimes you just don't need to and so an anonymous connection is just fine. \n",
    "\n",
    "In the next notebooks, we'll see what we can do once connected..."
   ]
  }
 ],
 "metadata": {
  "kernelspec": {
   "display_name": "Python 3",
   "language": "python",
   "name": "python3"
  },
  "language_info": {
   "codemirror_mode": {
    "name": "ipython",
    "version": 3
   },
   "file_extension": ".py",
   "mimetype": "text/x-python",
   "name": "python",
   "nbconvert_exporter": "python",
   "pygments_lexer": "ipython3",
   "version": "3.7.10"
  }
 },
 "nbformat": 4,
 "nbformat_minor": 4
}
